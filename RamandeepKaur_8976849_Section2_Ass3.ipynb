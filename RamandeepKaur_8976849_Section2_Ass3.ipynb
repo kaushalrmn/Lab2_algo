{
  "cells": [
    {
      "cell_type": "markdown",
      "metadata": {
        "id": "jt7nMe2EiUA6"
      },
      "source": [
        "\n",
        "\n",
        "## CSCN8000 – Artificial Intelligence Algorithms and Mathematics\n",
        "\n",
        "## Assignment 3\n",
        "\n"
      ]
    },
    {
      "cell_type": "markdown",
      "metadata": {
        "id": "v2NVQFabigpV"
      },
      "source": [
        "**RAMANDEEP KAUR**\n",
        "\n",
        "**8976849**"
      ]
    },
    {
      "cell_type": "markdown",
      "metadata": {
        "id": "g-sfjJpnyc2J"
      },
      "source": [
        "##. Data Preprocessing:**\n",
        "\n",
        "\n",
        "a.\n",
        "Fill in the missing values in numerical/categorical columns with an appropriate way"
      ]
    },
    {
      "cell_type": "code",
      "execution_count": 20,
      "metadata": {
        "id": "lBdd2RptyjOO"
      },
      "outputs": [],
      "source": [
        "import pandas as pd\n",
        "import numpy as np\n",
        "from sklearn.preprocessing import OneHotEncoder\n",
        "from sklearn.model_selection import train_test_split\n",
        "from sklearn.neural_network import MLPClassifier\n",
        "from sklearn.model_selection import GridSearchCV, StratifiedKFold\n",
        "from sklearn.metrics import accuracy_score\n",
        "from sklearn.metrics import f1_score\n",
        "import matplotlib.pyplot as plt\n",
        "from sklearn.decomposition import PCA"
      ]
    },
    {
      "cell_type": "code",
      "execution_count": 21,
      "metadata": {
        "colab": {
          "base_uri": "https://localhost:8080/"
        },
        "id": "4zEofJhYypxD",
        "outputId": "91f2a5ea-7b05-4e37-b2d6-6f1b71c8c63c"
      },
      "outputs": [
        {
          "name": "stdout",
          "output_type": "stream",
          "text": [
            "id                   0\n",
            "gender               0\n",
            "age                  0\n",
            "hypertension         0\n",
            "heart_disease        0\n",
            "ever_married         0\n",
            "work_type            0\n",
            "Residence_type       0\n",
            "avg_glucose_level    0\n",
            "bmi                  0\n",
            "smoking_status       0\n",
            "stroke               0\n",
            "dtype: int64\n"
          ]
        }
      ],
      "source": [
        "# Load the CSV data into a DataFrame\n",
        "data = pd.read_csv(\"/content/stroke.csv\")\n",
        "\n",
        "# Replace \"unknown\" values with NaN\n",
        "data = data.replace(\"Unknown\", np.nan)\n",
        "\n",
        "# Fill missing values in numerical columns with mean\n",
        "numerical_cols = data.select_dtypes(include='number').columns\n",
        "data[numerical_cols] = data[numerical_cols].fillna(data[numerical_cols].mean())\n",
        "\n",
        "# Fill missing values in categorical columns with mode\n",
        "categorical_cols = data.select_dtypes(include='object').columns\n",
        "data[categorical_cols] = data[categorical_cols].fillna(data[categorical_cols].mode().iloc[0])\n",
        "\n",
        "# Verify if missing values are filled\n",
        "print(data.isnull().sum())"
      ]
    },
    {
      "cell_type": "code",
      "execution_count": 22,
      "metadata": {
        "colab": {
          "base_uri": "https://localhost:8080/",
          "height": 417
        },
        "id": "KG17Kqbby-Mz",
        "outputId": "d030f436-6cf0-47c4-cff7-931f77a62c8e"
      },
      "outputs": [
        {
          "data": {
            "application/vnd.google.colaboratory.intrinsic+json": {
              "summary": "{\n  \"name\": \"data\",\n  \"rows\": 5110,\n  \"fields\": [\n    {\n      \"column\": \"id\",\n      \"properties\": {\n        \"dtype\": \"number\",\n        \"std\": 21161,\n        \"min\": 67,\n        \"max\": 72940,\n        \"num_unique_values\": 5110,\n        \"samples\": [\n          40041,\n          55244,\n          70992\n        ],\n        \"semantic_type\": \"\",\n        \"description\": \"\"\n      }\n    },\n    {\n      \"column\": \"gender\",\n      \"properties\": {\n        \"dtype\": \"category\",\n        \"num_unique_values\": 3,\n        \"samples\": [\n          \"Male\",\n          \"Female\",\n          \"Other\"\n        ],\n        \"semantic_type\": \"\",\n        \"description\": \"\"\n      }\n    },\n    {\n      \"column\": \"age\",\n      \"properties\": {\n        \"dtype\": \"number\",\n        \"std\": 22.61264672311349,\n        \"min\": 0.08,\n        \"max\": 82.0,\n        \"num_unique_values\": 104,\n        \"samples\": [\n          45.0,\n          24.0,\n          33.0\n        ],\n        \"semantic_type\": \"\",\n        \"description\": \"\"\n      }\n    },\n    {\n      \"column\": \"hypertension\",\n      \"properties\": {\n        \"dtype\": \"number\",\n        \"std\": 0,\n        \"min\": 0,\n        \"max\": 1,\n        \"num_unique_values\": 2,\n        \"samples\": [\n          1,\n          0\n        ],\n        \"semantic_type\": \"\",\n        \"description\": \"\"\n      }\n    },\n    {\n      \"column\": \"heart_disease\",\n      \"properties\": {\n        \"dtype\": \"number\",\n        \"std\": 0,\n        \"min\": 0,\n        \"max\": 1,\n        \"num_unique_values\": 2,\n        \"samples\": [\n          0,\n          1\n        ],\n        \"semantic_type\": \"\",\n        \"description\": \"\"\n      }\n    },\n    {\n      \"column\": \"ever_married\",\n      \"properties\": {\n        \"dtype\": \"category\",\n        \"num_unique_values\": 2,\n        \"samples\": [\n          \"No\",\n          \"Yes\"\n        ],\n        \"semantic_type\": \"\",\n        \"description\": \"\"\n      }\n    },\n    {\n      \"column\": \"work_type\",\n      \"properties\": {\n        \"dtype\": \"category\",\n        \"num_unique_values\": 5,\n        \"samples\": [\n          \"Self-employed\",\n          \"Never_worked\"\n        ],\n        \"semantic_type\": \"\",\n        \"description\": \"\"\n      }\n    },\n    {\n      \"column\": \"Residence_type\",\n      \"properties\": {\n        \"dtype\": \"category\",\n        \"num_unique_values\": 2,\n        \"samples\": [\n          \"Rural\",\n          \"Urban\"\n        ],\n        \"semantic_type\": \"\",\n        \"description\": \"\"\n      }\n    },\n    {\n      \"column\": \"avg_glucose_level\",\n      \"properties\": {\n        \"dtype\": \"number\",\n        \"std\": 45.28356015058198,\n        \"min\": 55.12,\n        \"max\": 271.74,\n        \"num_unique_values\": 3979,\n        \"samples\": [\n          178.29,\n          156.69\n        ],\n        \"semantic_type\": \"\",\n        \"description\": \"\"\n      }\n    },\n    {\n      \"column\": \"bmi\",\n      \"properties\": {\n        \"dtype\": \"number\",\n        \"std\": 7.698017826857082,\n        \"min\": 10.3,\n        \"max\": 97.6,\n        \"num_unique_values\": 419,\n        \"samples\": [\n          36.3,\n          17.4\n        ],\n        \"semantic_type\": \"\",\n        \"description\": \"\"\n      }\n    },\n    {\n      \"column\": \"smoking_status\",\n      \"properties\": {\n        \"dtype\": \"category\",\n        \"num_unique_values\": 3,\n        \"samples\": [\n          \"formerly smoked\",\n          \"never smoked\"\n        ],\n        \"semantic_type\": \"\",\n        \"description\": \"\"\n      }\n    },\n    {\n      \"column\": \"stroke\",\n      \"properties\": {\n        \"dtype\": \"number\",\n        \"std\": 0,\n        \"min\": 0,\n        \"max\": 1,\n        \"num_unique_values\": 2,\n        \"samples\": [\n          0,\n          1\n        ],\n        \"semantic_type\": \"\",\n        \"description\": \"\"\n      }\n    }\n  ]\n}",
              "type": "dataframe",
              "variable_name": "data"
            },
            "text/html": [
              "\n",
              "  <div id=\"df-55061064-8054-45e2-9f1d-922cee27d29b\" class=\"colab-df-container\">\n",
              "    <div>\n",
              "<style scoped>\n",
              "    .dataframe tbody tr th:only-of-type {\n",
              "        vertical-align: middle;\n",
              "    }\n",
              "\n",
              "    .dataframe tbody tr th {\n",
              "        vertical-align: top;\n",
              "    }\n",
              "\n",
              "    .dataframe thead th {\n",
              "        text-align: right;\n",
              "    }\n",
              "</style>\n",
              "<table border=\"1\" class=\"dataframe\">\n",
              "  <thead>\n",
              "    <tr style=\"text-align: right;\">\n",
              "      <th></th>\n",
              "      <th>id</th>\n",
              "      <th>gender</th>\n",
              "      <th>age</th>\n",
              "      <th>hypertension</th>\n",
              "      <th>heart_disease</th>\n",
              "      <th>ever_married</th>\n",
              "      <th>work_type</th>\n",
              "      <th>Residence_type</th>\n",
              "      <th>avg_glucose_level</th>\n",
              "      <th>bmi</th>\n",
              "      <th>smoking_status</th>\n",
              "      <th>stroke</th>\n",
              "    </tr>\n",
              "  </thead>\n",
              "  <tbody>\n",
              "    <tr>\n",
              "      <th>0</th>\n",
              "      <td>9046</td>\n",
              "      <td>Male</td>\n",
              "      <td>67.0</td>\n",
              "      <td>0</td>\n",
              "      <td>1</td>\n",
              "      <td>Yes</td>\n",
              "      <td>Private</td>\n",
              "      <td>Urban</td>\n",
              "      <td>228.69</td>\n",
              "      <td>36.600000</td>\n",
              "      <td>formerly smoked</td>\n",
              "      <td>1</td>\n",
              "    </tr>\n",
              "    <tr>\n",
              "      <th>1</th>\n",
              "      <td>51676</td>\n",
              "      <td>Female</td>\n",
              "      <td>61.0</td>\n",
              "      <td>0</td>\n",
              "      <td>0</td>\n",
              "      <td>Yes</td>\n",
              "      <td>Self-employed</td>\n",
              "      <td>Rural</td>\n",
              "      <td>202.21</td>\n",
              "      <td>28.893237</td>\n",
              "      <td>never smoked</td>\n",
              "      <td>1</td>\n",
              "    </tr>\n",
              "    <tr>\n",
              "      <th>2</th>\n",
              "      <td>31112</td>\n",
              "      <td>Male</td>\n",
              "      <td>80.0</td>\n",
              "      <td>0</td>\n",
              "      <td>1</td>\n",
              "      <td>Yes</td>\n",
              "      <td>Private</td>\n",
              "      <td>Rural</td>\n",
              "      <td>105.92</td>\n",
              "      <td>32.500000</td>\n",
              "      <td>never smoked</td>\n",
              "      <td>1</td>\n",
              "    </tr>\n",
              "    <tr>\n",
              "      <th>3</th>\n",
              "      <td>60182</td>\n",
              "      <td>Female</td>\n",
              "      <td>49.0</td>\n",
              "      <td>0</td>\n",
              "      <td>0</td>\n",
              "      <td>Yes</td>\n",
              "      <td>Private</td>\n",
              "      <td>Urban</td>\n",
              "      <td>171.23</td>\n",
              "      <td>34.400000</td>\n",
              "      <td>smokes</td>\n",
              "      <td>1</td>\n",
              "    </tr>\n",
              "    <tr>\n",
              "      <th>4</th>\n",
              "      <td>1665</td>\n",
              "      <td>Female</td>\n",
              "      <td>79.0</td>\n",
              "      <td>1</td>\n",
              "      <td>0</td>\n",
              "      <td>Yes</td>\n",
              "      <td>Self-employed</td>\n",
              "      <td>Rural</td>\n",
              "      <td>174.12</td>\n",
              "      <td>24.000000</td>\n",
              "      <td>never smoked</td>\n",
              "      <td>1</td>\n",
              "    </tr>\n",
              "    <tr>\n",
              "      <th>5</th>\n",
              "      <td>56669</td>\n",
              "      <td>Male</td>\n",
              "      <td>81.0</td>\n",
              "      <td>0</td>\n",
              "      <td>0</td>\n",
              "      <td>Yes</td>\n",
              "      <td>Private</td>\n",
              "      <td>Urban</td>\n",
              "      <td>186.21</td>\n",
              "      <td>29.000000</td>\n",
              "      <td>formerly smoked</td>\n",
              "      <td>1</td>\n",
              "    </tr>\n",
              "    <tr>\n",
              "      <th>6</th>\n",
              "      <td>53882</td>\n",
              "      <td>Male</td>\n",
              "      <td>74.0</td>\n",
              "      <td>1</td>\n",
              "      <td>1</td>\n",
              "      <td>Yes</td>\n",
              "      <td>Private</td>\n",
              "      <td>Rural</td>\n",
              "      <td>70.09</td>\n",
              "      <td>27.400000</td>\n",
              "      <td>never smoked</td>\n",
              "      <td>1</td>\n",
              "    </tr>\n",
              "    <tr>\n",
              "      <th>7</th>\n",
              "      <td>10434</td>\n",
              "      <td>Female</td>\n",
              "      <td>69.0</td>\n",
              "      <td>0</td>\n",
              "      <td>0</td>\n",
              "      <td>No</td>\n",
              "      <td>Private</td>\n",
              "      <td>Urban</td>\n",
              "      <td>94.39</td>\n",
              "      <td>22.800000</td>\n",
              "      <td>never smoked</td>\n",
              "      <td>1</td>\n",
              "    </tr>\n",
              "    <tr>\n",
              "      <th>8</th>\n",
              "      <td>27419</td>\n",
              "      <td>Female</td>\n",
              "      <td>59.0</td>\n",
              "      <td>0</td>\n",
              "      <td>0</td>\n",
              "      <td>Yes</td>\n",
              "      <td>Private</td>\n",
              "      <td>Rural</td>\n",
              "      <td>76.15</td>\n",
              "      <td>28.893237</td>\n",
              "      <td>never smoked</td>\n",
              "      <td>1</td>\n",
              "    </tr>\n",
              "    <tr>\n",
              "      <th>9</th>\n",
              "      <td>60491</td>\n",
              "      <td>Female</td>\n",
              "      <td>78.0</td>\n",
              "      <td>0</td>\n",
              "      <td>0</td>\n",
              "      <td>Yes</td>\n",
              "      <td>Private</td>\n",
              "      <td>Urban</td>\n",
              "      <td>58.57</td>\n",
              "      <td>24.200000</td>\n",
              "      <td>never smoked</td>\n",
              "      <td>1</td>\n",
              "    </tr>\n",
              "  </tbody>\n",
              "</table>\n",
              "</div>\n",
              "    <div class=\"colab-df-buttons\">\n",
              "\n",
              "  <div class=\"colab-df-container\">\n",
              "    <button class=\"colab-df-convert\" onclick=\"convertToInteractive('df-55061064-8054-45e2-9f1d-922cee27d29b')\"\n",
              "            title=\"Convert this dataframe to an interactive table.\"\n",
              "            style=\"display:none;\">\n",
              "\n",
              "  <svg xmlns=\"http://www.w3.org/2000/svg\" height=\"24px\" viewBox=\"0 -960 960 960\">\n",
              "    <path d=\"M120-120v-720h720v720H120Zm60-500h600v-160H180v160Zm220 220h160v-160H400v160Zm0 220h160v-160H400v160ZM180-400h160v-160H180v160Zm440 0h160v-160H620v160ZM180-180h160v-160H180v160Zm440 0h160v-160H620v160Z\"/>\n",
              "  </svg>\n",
              "    </button>\n",
              "\n",
              "  <style>\n",
              "    .colab-df-container {\n",
              "      display:flex;\n",
              "      gap: 12px;\n",
              "    }\n",
              "\n",
              "    .colab-df-convert {\n",
              "      background-color: #E8F0FE;\n",
              "      border: none;\n",
              "      border-radius: 50%;\n",
              "      cursor: pointer;\n",
              "      display: none;\n",
              "      fill: #1967D2;\n",
              "      height: 32px;\n",
              "      padding: 0 0 0 0;\n",
              "      width: 32px;\n",
              "    }\n",
              "\n",
              "    .colab-df-convert:hover {\n",
              "      background-color: #E2EBFA;\n",
              "      box-shadow: 0px 1px 2px rgba(60, 64, 67, 0.3), 0px 1px 3px 1px rgba(60, 64, 67, 0.15);\n",
              "      fill: #174EA6;\n",
              "    }\n",
              "\n",
              "    .colab-df-buttons div {\n",
              "      margin-bottom: 4px;\n",
              "    }\n",
              "\n",
              "    [theme=dark] .colab-df-convert {\n",
              "      background-color: #3B4455;\n",
              "      fill: #D2E3FC;\n",
              "    }\n",
              "\n",
              "    [theme=dark] .colab-df-convert:hover {\n",
              "      background-color: #434B5C;\n",
              "      box-shadow: 0px 1px 3px 1px rgba(0, 0, 0, 0.15);\n",
              "      filter: drop-shadow(0px 1px 2px rgba(0, 0, 0, 0.3));\n",
              "      fill: #FFFFFF;\n",
              "    }\n",
              "  </style>\n",
              "\n",
              "    <script>\n",
              "      const buttonEl =\n",
              "        document.querySelector('#df-55061064-8054-45e2-9f1d-922cee27d29b button.colab-df-convert');\n",
              "      buttonEl.style.display =\n",
              "        google.colab.kernel.accessAllowed ? 'block' : 'none';\n",
              "\n",
              "      async function convertToInteractive(key) {\n",
              "        const element = document.querySelector('#df-55061064-8054-45e2-9f1d-922cee27d29b');\n",
              "        const dataTable =\n",
              "          await google.colab.kernel.invokeFunction('convertToInteractive',\n",
              "                                                    [key], {});\n",
              "        if (!dataTable) return;\n",
              "\n",
              "        const docLinkHtml = 'Like what you see? Visit the ' +\n",
              "          '<a target=\"_blank\" href=https://colab.research.google.com/notebooks/data_table.ipynb>data table notebook</a>'\n",
              "          + ' to learn more about interactive tables.';\n",
              "        element.innerHTML = '';\n",
              "        dataTable['output_type'] = 'display_data';\n",
              "        await google.colab.output.renderOutput(dataTable, element);\n",
              "        const docLink = document.createElement('div');\n",
              "        docLink.innerHTML = docLinkHtml;\n",
              "        element.appendChild(docLink);\n",
              "      }\n",
              "    </script>\n",
              "  </div>\n",
              "\n",
              "\n",
              "<div id=\"df-7b86d89d-9760-48dc-b4d4-98b3af81fb23\">\n",
              "  <button class=\"colab-df-quickchart\" onclick=\"quickchart('df-7b86d89d-9760-48dc-b4d4-98b3af81fb23')\"\n",
              "            title=\"Suggest charts\"\n",
              "            style=\"display:none;\">\n",
              "\n",
              "<svg xmlns=\"http://www.w3.org/2000/svg\" height=\"24px\"viewBox=\"0 0 24 24\"\n",
              "     width=\"24px\">\n",
              "    <g>\n",
              "        <path d=\"M19 3H5c-1.1 0-2 .9-2 2v14c0 1.1.9 2 2 2h14c1.1 0 2-.9 2-2V5c0-1.1-.9-2-2-2zM9 17H7v-7h2v7zm4 0h-2V7h2v10zm4 0h-2v-4h2v4z\"/>\n",
              "    </g>\n",
              "</svg>\n",
              "  </button>\n",
              "\n",
              "<style>\n",
              "  .colab-df-quickchart {\n",
              "      --bg-color: #E8F0FE;\n",
              "      --fill-color: #1967D2;\n",
              "      --hover-bg-color: #E2EBFA;\n",
              "      --hover-fill-color: #174EA6;\n",
              "      --disabled-fill-color: #AAA;\n",
              "      --disabled-bg-color: #DDD;\n",
              "  }\n",
              "\n",
              "  [theme=dark] .colab-df-quickchart {\n",
              "      --bg-color: #3B4455;\n",
              "      --fill-color: #D2E3FC;\n",
              "      --hover-bg-color: #434B5C;\n",
              "      --hover-fill-color: #FFFFFF;\n",
              "      --disabled-bg-color: #3B4455;\n",
              "      --disabled-fill-color: #666;\n",
              "  }\n",
              "\n",
              "  .colab-df-quickchart {\n",
              "    background-color: var(--bg-color);\n",
              "    border: none;\n",
              "    border-radius: 50%;\n",
              "    cursor: pointer;\n",
              "    display: none;\n",
              "    fill: var(--fill-color);\n",
              "    height: 32px;\n",
              "    padding: 0;\n",
              "    width: 32px;\n",
              "  }\n",
              "\n",
              "  .colab-df-quickchart:hover {\n",
              "    background-color: var(--hover-bg-color);\n",
              "    box-shadow: 0 1px 2px rgba(60, 64, 67, 0.3), 0 1px 3px 1px rgba(60, 64, 67, 0.15);\n",
              "    fill: var(--button-hover-fill-color);\n",
              "  }\n",
              "\n",
              "  .colab-df-quickchart-complete:disabled,\n",
              "  .colab-df-quickchart-complete:disabled:hover {\n",
              "    background-color: var(--disabled-bg-color);\n",
              "    fill: var(--disabled-fill-color);\n",
              "    box-shadow: none;\n",
              "  }\n",
              "\n",
              "  .colab-df-spinner {\n",
              "    border: 2px solid var(--fill-color);\n",
              "    border-color: transparent;\n",
              "    border-bottom-color: var(--fill-color);\n",
              "    animation:\n",
              "      spin 1s steps(1) infinite;\n",
              "  }\n",
              "\n",
              "  @keyframes spin {\n",
              "    0% {\n",
              "      border-color: transparent;\n",
              "      border-bottom-color: var(--fill-color);\n",
              "      border-left-color: var(--fill-color);\n",
              "    }\n",
              "    20% {\n",
              "      border-color: transparent;\n",
              "      border-left-color: var(--fill-color);\n",
              "      border-top-color: var(--fill-color);\n",
              "    }\n",
              "    30% {\n",
              "      border-color: transparent;\n",
              "      border-left-color: var(--fill-color);\n",
              "      border-top-color: var(--fill-color);\n",
              "      border-right-color: var(--fill-color);\n",
              "    }\n",
              "    40% {\n",
              "      border-color: transparent;\n",
              "      border-right-color: var(--fill-color);\n",
              "      border-top-color: var(--fill-color);\n",
              "    }\n",
              "    60% {\n",
              "      border-color: transparent;\n",
              "      border-right-color: var(--fill-color);\n",
              "    }\n",
              "    80% {\n",
              "      border-color: transparent;\n",
              "      border-right-color: var(--fill-color);\n",
              "      border-bottom-color: var(--fill-color);\n",
              "    }\n",
              "    90% {\n",
              "      border-color: transparent;\n",
              "      border-bottom-color: var(--fill-color);\n",
              "    }\n",
              "  }\n",
              "</style>\n",
              "\n",
              "  <script>\n",
              "    async function quickchart(key) {\n",
              "      const quickchartButtonEl =\n",
              "        document.querySelector('#' + key + ' button');\n",
              "      quickchartButtonEl.disabled = true;  // To prevent multiple clicks.\n",
              "      quickchartButtonEl.classList.add('colab-df-spinner');\n",
              "      try {\n",
              "        const charts = await google.colab.kernel.invokeFunction(\n",
              "            'suggestCharts', [key], {});\n",
              "      } catch (error) {\n",
              "        console.error('Error during call to suggestCharts:', error);\n",
              "      }\n",
              "      quickchartButtonEl.classList.remove('colab-df-spinner');\n",
              "      quickchartButtonEl.classList.add('colab-df-quickchart-complete');\n",
              "    }\n",
              "    (() => {\n",
              "      let quickchartButtonEl =\n",
              "        document.querySelector('#df-7b86d89d-9760-48dc-b4d4-98b3af81fb23 button');\n",
              "      quickchartButtonEl.style.display =\n",
              "        google.colab.kernel.accessAllowed ? 'block' : 'none';\n",
              "    })();\n",
              "  </script>\n",
              "</div>\n",
              "\n",
              "    </div>\n",
              "  </div>\n"
            ],
            "text/plain": [
              "      id  gender   age  hypertension  heart_disease ever_married  \\\n",
              "0   9046    Male  67.0             0              1          Yes   \n",
              "1  51676  Female  61.0             0              0          Yes   \n",
              "2  31112    Male  80.0             0              1          Yes   \n",
              "3  60182  Female  49.0             0              0          Yes   \n",
              "4   1665  Female  79.0             1              0          Yes   \n",
              "5  56669    Male  81.0             0              0          Yes   \n",
              "6  53882    Male  74.0             1              1          Yes   \n",
              "7  10434  Female  69.0             0              0           No   \n",
              "8  27419  Female  59.0             0              0          Yes   \n",
              "9  60491  Female  78.0             0              0          Yes   \n",
              "\n",
              "       work_type Residence_type  avg_glucose_level        bmi  \\\n",
              "0        Private          Urban             228.69  36.600000   \n",
              "1  Self-employed          Rural             202.21  28.893237   \n",
              "2        Private          Rural             105.92  32.500000   \n",
              "3        Private          Urban             171.23  34.400000   \n",
              "4  Self-employed          Rural             174.12  24.000000   \n",
              "5        Private          Urban             186.21  29.000000   \n",
              "6        Private          Rural              70.09  27.400000   \n",
              "7        Private          Urban              94.39  22.800000   \n",
              "8        Private          Rural              76.15  28.893237   \n",
              "9        Private          Urban              58.57  24.200000   \n",
              "\n",
              "    smoking_status  stroke  \n",
              "0  formerly smoked       1  \n",
              "1     never smoked       1  \n",
              "2     never smoked       1  \n",
              "3           smokes       1  \n",
              "4     never smoked       1  \n",
              "5  formerly smoked       1  \n",
              "6     never smoked       1  \n",
              "7     never smoked       1  \n",
              "8     never smoked       1  \n",
              "9     never smoked       1  "
            ]
          },
          "execution_count": 22,
          "metadata": {},
          "output_type": "execute_result"
        }
      ],
      "source": [
        "# prompt: Show top 10 records\n",
        "\n",
        "data.head(10)\n"
      ]
    },
    {
      "cell_type": "markdown",
      "metadata": {
        "id": "6yHSe-QMzlU_"
      },
      "source": [
        "b. Encode the categorical features using categorical encoding::"
      ]
    },
    {
      "cell_type": "code",
      "execution_count": 23,
      "metadata": {
        "colab": {
          "base_uri": "https://localhost:8080/"
        },
        "id": "SCfrTp2Kzn0R",
        "outputId": "3837fdcf-6375-48ca-cf7f-df0c14f7b31e"
      },
      "outputs": [
        {
          "name": "stdout",
          "output_type": "stream",
          "text": [
            "      id   age  hypertension  heart_disease  avg_glucose_level        bmi  \\\n",
            "0   9046  67.0             0              1             228.69  36.600000   \n",
            "1  51676  61.0             0              0             202.21  28.893237   \n",
            "2  31112  80.0             0              1             105.92  32.500000   \n",
            "3  60182  49.0             0              0             171.23  34.400000   \n",
            "4   1665  79.0             1              0             174.12  24.000000   \n",
            "\n",
            "   stroke  gender_Female  gender_Male  gender_Other  ...  work_type_Govt_job  \\\n",
            "0       1          False         True         False  ...               False   \n",
            "1       1           True        False         False  ...               False   \n",
            "2       1          False         True         False  ...               False   \n",
            "3       1           True        False         False  ...               False   \n",
            "4       1           True        False         False  ...               False   \n",
            "\n",
            "   work_type_Never_worked  work_type_Private  work_type_Self-employed  \\\n",
            "0                   False               True                    False   \n",
            "1                   False              False                     True   \n",
            "2                   False               True                    False   \n",
            "3                   False               True                    False   \n",
            "4                   False              False                     True   \n",
            "\n",
            "   work_type_children  Residence_type_Rural  Residence_type_Urban  \\\n",
            "0               False                 False                  True   \n",
            "1               False                  True                 False   \n",
            "2               False                  True                 False   \n",
            "3               False                 False                  True   \n",
            "4               False                  True                 False   \n",
            "\n",
            "   smoking_status_formerly smoked  smoking_status_never smoked  \\\n",
            "0                            True                        False   \n",
            "1                           False                         True   \n",
            "2                           False                         True   \n",
            "3                           False                        False   \n",
            "4                           False                         True   \n",
            "\n",
            "   smoking_status_smokes  \n",
            "0                  False  \n",
            "1                  False  \n",
            "2                  False  \n",
            "3                   True  \n",
            "4                  False  \n",
            "\n",
            "[5 rows x 22 columns]\n"
          ]
        }
      ],
      "source": [
        "\n",
        "# Load the CSV data into a DataFrame\n",
        "data = pd.read_csv(\"/content/stroke.csv\")\n",
        "\n",
        "# Replace \"unknown\" values with NaN\n",
        "data = data.replace(\"Unknown\", np.nan)\n",
        "\n",
        "# Fill missing values in numerical columns with mean\n",
        "numerical_cols = data.select_dtypes(include='number').columns\n",
        "data[numerical_cols] = data[numerical_cols].fillna(data[numerical_cols].mean())\n",
        "\n",
        "# Fill missing values in categorical columns with mode\n",
        "categorical_cols = data.select_dtypes(include='object').columns\n",
        "data[categorical_cols] = data[categorical_cols].fillna(data[categorical_cols].mode().iloc[0])\n",
        "\n",
        "# One-hot encode categorical features\n",
        "data_encoded = pd.get_dummies(data, columns=categorical_cols)\n",
        "\n",
        "# Display the first few rows of the encoded DataFrame\n",
        "print(data_encoded.head())\n",
        "\n",
        "\n"
      ]
    },
    {
      "cell_type": "markdown",
      "metadata": {
        "id": "yCXxkW27z-Nr"
      },
      "source": [
        "**ML Model Training and Testing Tasks:**\n",
        "\n",
        "**Split the processed data into training and testing sets (e.g., 80% training, 20% testing).**"
      ]
    },
    {
      "cell_type": "markdown",
      "metadata": {
        "id": "sOn-DIFGYcJU"
      },
      "source": [
        "### Model-1"
      ]
    },
    {
      "cell_type": "code",
      "execution_count": 24,
      "metadata": {
        "colab": {
          "base_uri": "https://localhost:8080/"
        },
        "id": "5Mj2kLQ7ZWRo",
        "outputId": "50094d27-a64d-4f5c-cbc8-ad5656ada992"
      },
      "outputs": [
        {
          "name": "stdout",
          "output_type": "stream",
          "text": [
            "Training set - Features: (4088, 21) Target: (4088,)\n",
            "Testing set - Features: (1022, 21) Target: (1022,)\n"
          ]
        }
      ],
      "source": [
        "from sklearn.model_selection import train_test_split\n",
        "\n",
        "# Separate features (X) and target variable (y)\n",
        "X = data_encoded.drop(columns=['stroke'])  # Features\n",
        "y = data_encoded['stroke']  # Target variable\n",
        "\n",
        "# Split the data into training and testing sets\n",
        "# (80% training, 20% testing)\n",
        "X_train, X_test, y_train, y_test = train_test_split(X, y, test_size=0.2, random_state=42)\n",
        "\n",
        "# Print the shapes of the training and testing sets\n",
        "print(\"Training set - Features:\", X_train.shape, \"Target:\", y_train.shape)\n",
        "print(\"Testing set - Features:\", X_test.shape, \"Target:\", y_test.shape)\n"
      ]
    },
    {
      "cell_type": "code",
      "execution_count": 25,
      "metadata": {
        "colab": {
          "base_uri": "https://localhost:8080/"
        },
        "id": "g5fjyBZdZ79N",
        "outputId": "37677db8-69b5-46f0-b7b1-9ab36cc1e655"
      },
      "outputs": [
        {
          "name": "stdout",
          "output_type": "stream",
          "text": [
            "Best parameters found: {'hidden_layer_sizes': 64, 'learning_rate_init': 0.1}\n"
          ]
        }
      ],
      "source": [
        "# Define variations of hidden layer sizes and learning rates\n",
        "layer_variations = [(64,), (128,), (256,), (64, 32), (128, 64), (256, 128), (128, 64, 32), (256, 128, 64), (512, 256), (512, 256, 128)]\n",
        "learning_rates = [0.001, 0.01, 0.1]\n",
        "\n",
        "# Create parameter grids\n",
        "param_grids = [{'hidden_layer_sizes': layers, 'learning_rate_init': [lr]} for layers in layer_variations for lr in learning_rates]\n",
        "\n",
        "# Create MLP classifier\n",
        "mlp = MLPClassifier(max_iter=1000, random_state=42)\n",
        "\n",
        "# Perform grid search with cross-validation\n",
        "grid_search = GridSearchCV(mlp, param_grids, cv=5, scoring='accuracy', n_jobs=-1)\n",
        "grid_search.fit(X_train, y_train)\n",
        "\n",
        "# Print the best parameters found\n",
        "print(\"Best parameters found:\", grid_search.best_params_)"
      ]
    },
    {
      "cell_type": "markdown",
      "metadata": {
        "id": "jHgZNGxAeBlr"
      },
      "source": [
        "###  Comment on the best parameters found in step 2."
      ]
    },
    {
      "cell_type": "markdown",
      "metadata": {
        "id": "4qfBuNQPbCR9"
      },
      "source": [
        "**Best Perameter**\n",
        "\n",
        "The optimal parameters, a single hidden layer with 64 neurons and a learning rate of 0.1, strike a balance between model complexity and learning speed, selected through cross-validation for generalizability. Despite effectiveness, potential for enhancement exists through further adjustments, highlighting the importance of parameter understanding for practical model implementation."
      ]
    },
    {
      "cell_type": "markdown",
      "metadata": {
        "id": "jZ2mOSht09HP"
      },
      "source": [
        "##. Evaluate the top-performing model from step 2 on the test set and report their F1-Score.**"
      ]
    },
    {
      "cell_type": "code",
      "execution_count": 26,
      "metadata": {
        "colab": {
          "base_uri": "https://localhost:8080/"
        },
        "id": "3rvnemYMbT9f",
        "outputId": "2510f0be-bf19-4cb5-c621-537fd0f93980"
      },
      "outputs": [
        {
          "name": "stdout",
          "output_type": "stream",
          "text": [
            "\n",
            "Classification Report:\n",
            "              precision    recall  f1-score   support\n",
            "\n",
            "           0       0.94      1.00      0.97       960\n",
            "           1       0.00      0.00      0.00        62\n",
            "\n",
            "    accuracy                           0.94      1022\n",
            "   macro avg       0.47      0.50      0.48      1022\n",
            "weighted avg       0.88      0.94      0.91      1022\n",
            "\n"
          ]
        },
        {
          "name": "stderr",
          "output_type": "stream",
          "text": [
            "/usr/local/lib/python3.10/dist-packages/sklearn/metrics/_classification.py:1344: UndefinedMetricWarning: Precision and F-score are ill-defined and being set to 0.0 in labels with no predicted samples. Use `zero_division` parameter to control this behavior.\n",
            "  _warn_prf(average, modifier, msg_start, len(result))\n",
            "/usr/local/lib/python3.10/dist-packages/sklearn/metrics/_classification.py:1344: UndefinedMetricWarning: Precision and F-score are ill-defined and being set to 0.0 in labels with no predicted samples. Use `zero_division` parameter to control this behavior.\n",
            "  _warn_prf(average, modifier, msg_start, len(result))\n",
            "/usr/local/lib/python3.10/dist-packages/sklearn/metrics/_classification.py:1344: UndefinedMetricWarning: Precision and F-score are ill-defined and being set to 0.0 in labels with no predicted samples. Use `zero_division` parameter to control this behavior.\n",
            "  _warn_prf(average, modifier, msg_start, len(result))\n"
          ]
        }
      ],
      "source": [
        "from sklearn.metrics import classification_report\n",
        "\n",
        "# Evaluate the best model on the testing set\n",
        "y_pred = grid_search.best_estimator_.predict(X_test)\n",
        "\n",
        "# Print classification report\n",
        "print(\"\\nClassification Report:\")\n",
        "print(classification_report(y_test, y_pred))\n",
        "\n"
      ]
    },
    {
      "cell_type": "markdown",
      "metadata": {
        "id": "_NcVZz0iboDn"
      },
      "source": [
        "**Accuracy:**  Overall accuracy of the model is 0.94"
      ]
    },
    {
      "cell_type": "markdown",
      "metadata": {
        "id": "tVMMN2YcbpZk"
      },
      "source": [
        "##. Carry out PCA to reduce the dimensions of the dataset to a smaller size, then draw the scree plot and determine the optimal number of new dimensions.**\n",
        "\n",
        "---\n",
        "\n"
      ]
    },
    {
      "cell_type": "code",
      "execution_count": 27,
      "metadata": {
        "colab": {
          "base_uri": "https://localhost:8080/",
          "height": 564
        },
        "id": "hjtYMH8NcHvj",
        "outputId": "bb8c9431-eb62-4318-fd9b-a526bbeceb68"
      },
      "outputs": [
        {
          "data": {
            "image/png": "[encoded data removed]",
            "text/plain": [
              "<Figure size 1000x600 with 1 Axes>"
            ]
          },
          "metadata": {},
          "output_type": "display_data"
        }
      ],
      "source": [
        "import numpy as np\n",
        "import matplotlib.pyplot as plt\n",
        "from sklearn.decomposition import PCA\n",
        "from sklearn.preprocessing import StandardScaler\n",
        "\n",
        "# Standardize the data\n",
        "scaler = StandardScaler()\n",
        "X_scaled = scaler.fit_transform(X_train)\n",
        "\n",
        "# Apply PCA\n",
        "pca = PCA()\n",
        "X_pca = pca.fit_transform(X_scaled)\n",
        "\n",
        "# Compute explained variance ratio\n",
        "explained_variance_ratio = pca.explained_variance_ratio_\n",
        "\n",
        "# Plot scree plot\n",
        "plt.figure(figsize=(10, 6))\n",
        "plt.plot(np.cumsum(explained_variance_ratio), marker='o', linestyle='-')\n",
        "plt.xlabel('Number of Components')\n",
        "plt.ylabel('Cumulative Explained Variance')\n",
        "plt.title('Scree Plot')\n",
        "plt.grid(True)\n",
        "plt.show()\n"
      ]
    },
    {
      "cell_type": "markdown",
      "metadata": {
        "id": "2dboIUC_daPQ"
      },
      "source": [
        "**Observations:**\n",
        "\n",
        "The scree plot reveals an elbow point, typically observed after approximately 15 components, indicating diminishing returns in explained variance with additional components.\n",
        "\n",
        "Retaining too many components risks overfitting by capturing noise and irrelevant information, underscoring the importance of judiciously selecting the number of components for dimensionality reduction to strike a balance between model complexity and robustness."
      ]
    },
    {
      "cell_type": "markdown",
      "metadata": {
        "id": "SnGQzr9DmHku"
      },
      "source": [
        "## . Repeat step 2 and 4 again with the new dataset after dimensionality reduction with the optimal number of dimensions."
      ]
    },
    {
      "cell_type": "code",
      "execution_count": 28,
      "metadata": {
        "colab": {
          "base_uri": "https://localhost:8080/"
        },
        "id": "Ffyd41EkhJZg",
        "outputId": "5abd49eb-cac5-4ebe-f6cd-6a28492d8914"
      },
      "outputs": [
        {
          "name": "stdout",
          "output_type": "stream",
          "text": [
            "New dataset after dimensionality reduction with the optimal number of components:\n",
            "        PC1       PC2       PC3       PC4       PC5       PC6       PC7  \\\n",
            "0 -2.148212  2.139610  1.465605  1.684801  1.499830 -1.275352 -1.322128   \n",
            "1 -1.046507 -1.531501 -1.303256 -0.651552 -1.452365  0.088848 -0.398969   \n",
            "2  1.831241 -1.685104  1.402711 -1.029469 -0.192657 -0.189093 -0.152176   \n",
            "3 -1.048554  2.114724 -1.442475  0.598054  1.476402  1.898265 -2.609982   \n",
            "4  2.111842 -1.602301  1.325444 -0.832756 -0.041852 -0.256886 -0.258344   \n",
            "\n",
            "        PC8       PC9      PC10      PC11      PC12      PC13      PC14  \\\n",
            "0 -1.647708  0.250114  1.155653  0.389311 -0.405267  0.049226 -0.513112   \n",
            "1 -0.106554  0.168718 -0.859748 -0.009489 -0.062529  0.321537  0.450842   \n",
            "2  0.346434  0.497582 -0.749933  0.298049  0.345276  1.462309 -0.314635   \n",
            "3  0.628596 -0.089524  0.348765 -0.021664  0.384694  0.341631  0.364206   \n",
            "4  0.037626  0.234687 -1.156376 -0.480565  0.667149  0.394746 -1.357167   \n",
            "\n",
            "       PC15  \n",
            "0  0.476121  \n",
            "1  0.600144  \n",
            "2 -0.243107  \n",
            "3 -0.899701  \n",
            "4 -0.088121  \n"
          ]
        }
      ],
      "source": [
        "# Dimensionality Reduction using PCA\n",
        "\n",
        "# Define the optimal number of components based on the scree plot\n",
        "optimal_num_components = 15\n",
        "\n",
        "# Apply PCA with the optimal number of components\n",
        "pca = PCA(n_components=optimal_num_components)\n",
        "X_pca_optimal = pca.fit_transform(X_scaled)\n",
        "\n",
        "# Convert the transformed PCA array into a DataFrame\n",
        "import pandas as pd\n",
        "columns = [f'PC{i+1}' for i in range(optimal_num_components)]\n",
        "X_pca_optimal_df = pd.DataFrame(X_pca_optimal, columns=columns)\n",
        "\n",
        "# Display the new dataset after dimensionality reduction\n",
        "print(\"New dataset after dimensionality reduction with the optimal number of components:\")\n",
        "print(X_pca_optimal_df.head())\n"
      ]
    },
    {
      "cell_type": "code",
      "execution_count": 29,
      "metadata": {
        "colab": {
          "base_uri": "https://localhost:8080/"
        },
        "id": "m1tJv97Bizbq",
        "outputId": "d46b8704-011e-4448-b54e-23966bd15813"
      },
      "outputs": [
        {
          "name": "stdout",
          "output_type": "stream",
          "text": [
            "First few rows of the dataset after dimensionality reduction:\n",
            "        PC1       PC2       PC3       PC4       PC5       PC6       PC7  \\\n",
            "0 -2.148212  2.139610  1.465605  1.684801  1.499830 -1.275352 -1.322128   \n",
            "1 -1.046507 -1.531501 -1.303256 -0.651552 -1.452365  0.088848 -0.398969   \n",
            "2  1.831241 -1.685104  1.402711 -1.029469 -0.192657 -0.189093 -0.152176   \n",
            "3 -1.048554  2.114724 -1.442475  0.598054  1.476402  1.898265 -2.609982   \n",
            "4  2.111842 -1.602301  1.325444 -0.832756 -0.041852 -0.256886 -0.258344   \n",
            "\n",
            "        PC8       PC9      PC10      PC11      PC12      PC13      PC14  \\\n",
            "0 -1.647708  0.250114  1.155653  0.389311 -0.405267  0.049226 -0.513112   \n",
            "1 -0.106554  0.168718 -0.859748 -0.009489 -0.062529  0.321537  0.450842   \n",
            "2  0.346434  0.497582 -0.749933  0.298049  0.345276  1.462309 -0.314635   \n",
            "3  0.628596 -0.089524  0.348765 -0.021664  0.384694  0.341631  0.364206   \n",
            "4  0.037626  0.234687 -1.156376 -0.480565  0.667149  0.394746 -1.357167   \n",
            "\n",
            "       PC15  \n",
            "0  0.476121  \n",
            "1  0.600144  \n",
            "2 -0.243107  \n",
            "3 -0.899701  \n",
            "4 -0.088121  \n"
          ]
        }
      ],
      "source": [
        "# Display the first few rows of the dataset after dimensionality reduction\n",
        "print(\"First few rows of the dataset after dimensionality reduction:\")\n",
        "print(X_pca_optimal_df.head())\n"
      ]
    },
    {
      "cell_type": "markdown",
      "metadata": {
        "id": "n6XHIex8iOeu"
      },
      "source": [
        "## Model-2\n",
        "\n"
      ]
    },
    {
      "cell_type": "code",
      "execution_count": 30,
      "metadata": {
        "colab": {
          "base_uri": "https://localhost:8080/"
        },
        "id": "0AiYqLLGmdvl",
        "outputId": "bb9566cf-5843-4908-df39-56746b13617b"
      },
      "outputs": [
        {
          "name": "stdout",
          "output_type": "stream",
          "text": [
            "Best parameters found: {'hidden_layer_sizes': 256, 'learning_rate_init': 0.1}\n"
          ]
        }
      ],
      "source": [
        "from sklearn.neural_network import MLPClassifier\n",
        "from sklearn.model_selection import GridSearchCV\n",
        "from sklearn.metrics import classification_report\n",
        "\n",
        "# Define variations of hidden layer sizes and learning rates\n",
        "layer_variations = [(64,), (128,), (256,), (64, 32), (128, 64), (256, 128), (128, 64, 32), (256, 128, 64), (512, 256), (512, 256, 128)]\n",
        "learning_rates = [0.001, 0.01, 0.1]\n",
        "\n",
        "# Create parameter grids to search\n",
        "param_grids = [{'hidden_layer_sizes': layers, 'learning_rate_init': [lr]} for layers in layer_variations for lr in learning_rates]\n",
        "\n",
        "# Create MLP classifier\n",
        "mlp = MLPClassifier(max_iter=1000, random_state=42)\n",
        "\n",
        "# Perform grid search with cross-validation\n",
        "grid_search = GridSearchCV(mlp, param_grids, cv=5, scoring='accuracy', n_jobs=-1)\n",
        "grid_search.fit(X_pca_optimal_df, y_train)\n",
        "\n",
        "# Print the best parameters found\n",
        "print(\"Best parameters found:\", grid_search.best_params_)"
      ]
    },
    {
      "cell_type": "markdown",
      "metadata": {
        "id": "F9kTXwcFjwGq"
      },
      "source": [
        "The best parameters found are a neural network with a single hidden layer of 32 neurons and a learning rate initialization of 0.001.\n",
        "\n",
        "This suggests that a relatively simple model architecture suffices for achieving good performance on the dataset, with a conservative learning rate to ensure stable training.\n",
        "\n",
        "These parameters are determined through cross-validation, ensuring potential for generalization to unseen data. Further tuning may still be beneficial for enhancing model performance."
      ]
    },
    {
      "cell_type": "code",
      "execution_count": 31,
      "metadata": {
        "colab": {
          "base_uri": "https://localhost:8080/"
        },
        "id": "PIN6ok0bkMCz",
        "outputId": "ce100903-5cdc-4f0d-a4c3-866d1ddb1af4"
      },
      "outputs": [
        {
          "name": "stdout",
          "output_type": "stream",
          "text": [
            "Accuracy: 0.9393346379647749\n"
          ]
        },
        {
          "name": "stderr",
          "output_type": "stream",
          "text": [
            "/usr/local/lib/python3.10/dist-packages/sklearn/base.py:432: UserWarning: X has feature names, but PCA was fitted without feature names\n",
            "  warnings.warn(\n"
          ]
        }
      ],
      "source": [
        "# Transform the test data using the same PCA object\n",
        "X_test_pca = pca.transform(X_test)\n",
        "\n",
        "# Convert the transformed test data into a DataFrame\n",
        "X_test_pca_df = pd.DataFrame(X_test_pca, columns=[f'PC{i+1}' for i in range(optimal_num_components)])\n",
        "\n",
        "# Predict using the best MLP model\n",
        "y_pred = grid_search.best_estimator_.predict(X_test_pca_df)\n",
        "\n",
        "# Calculate accuracy\n",
        "accuracy = accuracy_score(y_test, y_pred)\n",
        "\n",
        "# Calculate F1 score\n",
        "f1 = f1_score(y_test, y_pred)\n",
        "\n",
        "# Print accuracy\n",
        "print(\"Accuracy:\", accuracy)\n"
      ]
    },
    {
      "cell_type": "code",
      "execution_count": 34,
      "metadata": {
        "colab": {
          "base_uri": "https://localhost:8080/"
        },
        "id": "zxmGbCDctrfl",
        "outputId": "a22dcd3b-da17-4d83-aa5a-28621556fee7"
      },
      "outputs": [
        {
          "name": "stdout",
          "output_type": "stream",
          "text": [
            "\n",
            "Classification Report:\n",
            "              precision    recall  f1-score   support\n",
            "\n",
            "           0       0.94      1.00      0.97       960\n",
            "           1       0.00      0.00      0.00        62\n",
            "\n",
            "    accuracy                           0.94      1022\n",
            "   macro avg       0.47      0.50      0.48      1022\n",
            "weighted avg       0.88      0.94      0.91      1022\n",
            "\n"
          ]
        },
        {
          "name": "stderr",
          "output_type": "stream",
          "text": [
            "/usr/local/lib/python3.10/dist-packages/sklearn/base.py:432: UserWarning: X has feature names, but PCA was fitted without feature names\n",
            "  warnings.warn(\n",
            "/usr/local/lib/python3.10/dist-packages/sklearn/base.py:439: UserWarning: X does not have valid feature names, but MLPClassifier was fitted with feature names\n",
            "  warnings.warn(\n",
            "/usr/local/lib/python3.10/dist-packages/sklearn/metrics/_classification.py:1344: UndefinedMetricWarning: Precision and F-score are ill-defined and being set to 0.0 in labels with no predicted samples. Use `zero_division` parameter to control this behavior.\n",
            "  _warn_prf(average, modifier, msg_start, len(result))\n",
            "/usr/local/lib/python3.10/dist-packages/sklearn/metrics/_classification.py:1344: UndefinedMetricWarning: Precision and F-score are ill-defined and being set to 0.0 in labels with no predicted samples. Use `zero_division` parameter to control this behavior.\n",
            "  _warn_prf(average, modifier, msg_start, len(result))\n",
            "/usr/local/lib/python3.10/dist-packages/sklearn/metrics/_classification.py:1344: UndefinedMetricWarning: Precision and F-score are ill-defined and being set to 0.0 in labels with no predicted samples. Use `zero_division` parameter to control this behavior.\n",
            "  _warn_prf(average, modifier, msg_start, len(result))\n"
          ]
        }
      ],
      "source": [
        "# Transform the testing set using the same PCA object\n",
        "X_test_pca = pca.transform(X_test)\n",
        "\n",
        "# Evaluate the best model on the transformed testing set\n",
        "y_pred = grid_search.best_estimator_.predict(X_test_pca)\n",
        "\n",
        "# Print classification report\n",
        "print(\"\\nClassification Report:\")\n",
        "print(classification_report(y_test, y_pred))\n",
        "\n"
      ]
    },
    {
      "cell_type": "markdown",
      "metadata": {
        "id": "hdIEZAvdzu5y"
      },
      "source": []
    },
    {
      "cell_type": "markdown",
      "metadata": {
        "id": "3cGQBe8Aue7J"
      },
      "source": [
        "## 7. Compare and comment on the outputs of Step 4 and 6 and determine whether dimensionality reduction lead to performance enhancement."
      ]
    },
    {
      "cell_type": "markdown",
      "metadata": {
        "id": "V9Qg7gphunLC"
      },
      "source": [
        "To compare the outputs of Step 4 (evaluation without dimensionality reduction) and Step 6 (evaluation after dimensionality reduction) and determine if dimensionality reduction led to performance enhancement, we need to analyze the classification reports from both steps.\n",
        "\n",
        "Step 4: Evaluation without Dimensionality Reduction\n",
        "\n",
        "In Step 4, the model was evaluated on the original feature space without dimensionality reduction.\n",
        "The classification report provides metrics such as precision, recall, F1-score, and support for each class in the target variable.\n",
        "\n",
        "Step 6: Evaluation after Dimensionality Reduction\n",
        "\n",
        "In Step 6, the model was evaluated on the transformed test set obtained after dimensionality reduction using PCA.\n",
        "The classification report also provides metrics similar to Step 4 but reflects the performance of the model on the reduced feature space.\n",
        "\n",
        "**Comparison and Comments:**\n",
        "\n",
        "We need to compare the metrics (accuracy, precision, recall, F1-score) for each class between Step 4 and Step 6.\n",
        "\n",
        "If the performance metrics show improvement or similar performance after dimensionality reduction in Step 6 compared to Step 4, then dimensionality reduction can be considered beneficial.\n",
        "\n",
        "However, if there is a significant drop in performance metrics in Step 6 compared to Step 4, it indicates that dimensionality reduction may have led to loss of important information, resulting in decreased model performance.\n",
        "Conclusion:\n",
        "\n",
        "Based on the comparison of classification reports from Step 4 and Step 6, we can determine whether dimensionality reduction led to performance enhancement or degradation.\n",
        "\n",
        "If performance metrics remain similar or improve after dimensionality reduction, it suggests that the reduced feature space retains relevant information for the model, leading to performance enhancement.\n",
        "\n",
        "Conversely, if there is a notable decline in performance metrics after dimensionality reduction, it indicates that important information may have been lost during the reduction process, resulting in decreased model performance."
      ]
    }
  ],
  "metadata": {
    "colab": {
      "provenance": []
    },
    "kernelspec": {
      "display_name": "Python 3",
      "name": "python3"
    },
    "language_info": {
      "name": "python"
    }
  },
  "nbformat": 4,
  "nbformat_minor": 0
}
